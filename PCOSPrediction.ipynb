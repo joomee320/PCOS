{
 "cells": [
  {
   "cell_type": "code",
   "execution_count": 285,
   "id": "bcbc16bb",
   "metadata": {},
   "outputs": [],
   "source": [
    "#import libraries\n",
    "import pandas as pd\n",
    "import numpy as np\n",
    "import matplotlib.pyplot as plt\n",
    "import seaborn as sns\n",
    "from scipy.stats import ttest_ind, chi2_contingency, spearmanr"
   ]
  },
  {
   "cell_type": "code",
   "execution_count": 286,
   "id": "d0c3c6f2",
   "metadata": {},
   "outputs": [
    {
     "data": {
      "text/html": [
       "<div>\n",
       "<style scoped>\n",
       "    .dataframe tbody tr th:only-of-type {\n",
       "        vertical-align: middle;\n",
       "    }\n",
       "\n",
       "    .dataframe tbody tr th {\n",
       "        vertical-align: top;\n",
       "    }\n",
       "\n",
       "    .dataframe thead th {\n",
       "        text-align: right;\n",
       "    }\n",
       "</style>\n",
       "<table border=\"1\" class=\"dataframe\">\n",
       "  <thead>\n",
       "    <tr style=\"text-align: right;\">\n",
       "      <th></th>\n",
       "      <th>Patient File No.</th>\n",
       "      <th>PCOS (Y/N)</th>\n",
       "      <th>Age (yrs)</th>\n",
       "      <th>Weight (Kg)</th>\n",
       "      <th>Height(Cm)</th>\n",
       "      <th>BMI</th>\n",
       "      <th>Blood Group</th>\n",
       "      <th>Pulse rate(bpm)</th>\n",
       "      <th>RR (breaths/min)</th>\n",
       "      <th>Hb(g/dl)</th>\n",
       "      <th>...</th>\n",
       "      <th>Pimples(Y/N)</th>\n",
       "      <th>Fast food (Y/N)</th>\n",
       "      <th>Reg.Exercise(Y/N)</th>\n",
       "      <th>BP _Systolic (mmHg)</th>\n",
       "      <th>BP _Diastolic (mmHg)</th>\n",
       "      <th>Follicle No. (L)</th>\n",
       "      <th>Follicle No. (R)</th>\n",
       "      <th>Avg. F size (L) (mm)</th>\n",
       "      <th>Avg. F size (R) (mm)</th>\n",
       "      <th>Endometrium (mm)</th>\n",
       "    </tr>\n",
       "    <tr>\n",
       "      <th>Sl. No</th>\n",
       "      <th></th>\n",
       "      <th></th>\n",
       "      <th></th>\n",
       "      <th></th>\n",
       "      <th></th>\n",
       "      <th></th>\n",
       "      <th></th>\n",
       "      <th></th>\n",
       "      <th></th>\n",
       "      <th></th>\n",
       "      <th></th>\n",
       "      <th></th>\n",
       "      <th></th>\n",
       "      <th></th>\n",
       "      <th></th>\n",
       "      <th></th>\n",
       "      <th></th>\n",
       "      <th></th>\n",
       "      <th></th>\n",
       "      <th></th>\n",
       "      <th></th>\n",
       "    </tr>\n",
       "  </thead>\n",
       "  <tbody>\n",
       "    <tr>\n",
       "      <th>1</th>\n",
       "      <td>10001</td>\n",
       "      <td>0</td>\n",
       "      <td>28</td>\n",
       "      <td>44.6</td>\n",
       "      <td>152.0</td>\n",
       "      <td>19.300000</td>\n",
       "      <td>15</td>\n",
       "      <td>78</td>\n",
       "      <td>22</td>\n",
       "      <td>10.48</td>\n",
       "      <td>...</td>\n",
       "      <td>0</td>\n",
       "      <td>1.0</td>\n",
       "      <td>0</td>\n",
       "      <td>110</td>\n",
       "      <td>80</td>\n",
       "      <td>3</td>\n",
       "      <td>3</td>\n",
       "      <td>18.0</td>\n",
       "      <td>18.0</td>\n",
       "      <td>8.5</td>\n",
       "    </tr>\n",
       "    <tr>\n",
       "      <th>2</th>\n",
       "      <td>10002</td>\n",
       "      <td>0</td>\n",
       "      <td>36</td>\n",
       "      <td>65.0</td>\n",
       "      <td>161.5</td>\n",
       "      <td>24.921163</td>\n",
       "      <td>15</td>\n",
       "      <td>74</td>\n",
       "      <td>20</td>\n",
       "      <td>11.70</td>\n",
       "      <td>...</td>\n",
       "      <td>0</td>\n",
       "      <td>0.0</td>\n",
       "      <td>0</td>\n",
       "      <td>120</td>\n",
       "      <td>70</td>\n",
       "      <td>3</td>\n",
       "      <td>5</td>\n",
       "      <td>15.0</td>\n",
       "      <td>14.0</td>\n",
       "      <td>3.7</td>\n",
       "    </tr>\n",
       "    <tr>\n",
       "      <th>3</th>\n",
       "      <td>10003</td>\n",
       "      <td>1</td>\n",
       "      <td>33</td>\n",
       "      <td>68.8</td>\n",
       "      <td>165.0</td>\n",
       "      <td>25.270891</td>\n",
       "      <td>11</td>\n",
       "      <td>72</td>\n",
       "      <td>18</td>\n",
       "      <td>11.80</td>\n",
       "      <td>...</td>\n",
       "      <td>1</td>\n",
       "      <td>1.0</td>\n",
       "      <td>0</td>\n",
       "      <td>120</td>\n",
       "      <td>80</td>\n",
       "      <td>13</td>\n",
       "      <td>15</td>\n",
       "      <td>18.0</td>\n",
       "      <td>20.0</td>\n",
       "      <td>10.0</td>\n",
       "    </tr>\n",
       "    <tr>\n",
       "      <th>4</th>\n",
       "      <td>10004</td>\n",
       "      <td>0</td>\n",
       "      <td>37</td>\n",
       "      <td>65.0</td>\n",
       "      <td>148.0</td>\n",
       "      <td>29.674945</td>\n",
       "      <td>13</td>\n",
       "      <td>72</td>\n",
       "      <td>20</td>\n",
       "      <td>12.00</td>\n",
       "      <td>...</td>\n",
       "      <td>0</td>\n",
       "      <td>0.0</td>\n",
       "      <td>0</td>\n",
       "      <td>120</td>\n",
       "      <td>70</td>\n",
       "      <td>2</td>\n",
       "      <td>2</td>\n",
       "      <td>15.0</td>\n",
       "      <td>14.0</td>\n",
       "      <td>7.5</td>\n",
       "    </tr>\n",
       "    <tr>\n",
       "      <th>5</th>\n",
       "      <td>10005</td>\n",
       "      <td>0</td>\n",
       "      <td>25</td>\n",
       "      <td>52.0</td>\n",
       "      <td>161.0</td>\n",
       "      <td>20.060954</td>\n",
       "      <td>11</td>\n",
       "      <td>72</td>\n",
       "      <td>18</td>\n",
       "      <td>10.00</td>\n",
       "      <td>...</td>\n",
       "      <td>0</td>\n",
       "      <td>0.0</td>\n",
       "      <td>0</td>\n",
       "      <td>120</td>\n",
       "      <td>80</td>\n",
       "      <td>3</td>\n",
       "      <td>4</td>\n",
       "      <td>16.0</td>\n",
       "      <td>14.0</td>\n",
       "      <td>7.0</td>\n",
       "    </tr>\n",
       "  </tbody>\n",
       "</table>\n",
       "<p>5 rows × 41 columns</p>\n",
       "</div>"
      ],
      "text/plain": [
       "        Patient File No.  PCOS (Y/N)   Age (yrs)  Weight (Kg)  Height(Cm)   \\\n",
       "Sl. No                                                                       \n",
       "1                  10001           0          28         44.6        152.0   \n",
       "2                  10002           0          36         65.0        161.5   \n",
       "3                  10003           1          33         68.8        165.0   \n",
       "4                  10004           0          37         65.0        148.0   \n",
       "5                  10005           0          25         52.0        161.0   \n",
       "\n",
       "              BMI  Blood Group  Pulse rate(bpm)   RR (breaths/min)  Hb(g/dl)  \\\n",
       "Sl. No                                                                         \n",
       "1       19.300000           15                78                22     10.48   \n",
       "2       24.921163           15                74                20     11.70   \n",
       "3       25.270891           11                72                18     11.80   \n",
       "4       29.674945           13                72                20     12.00   \n",
       "5       20.060954           11                72                18     10.00   \n",
       "\n",
       "        ...  Pimples(Y/N)  Fast food (Y/N)  Reg.Exercise(Y/N)  \\\n",
       "Sl. No  ...                                                     \n",
       "1       ...             0              1.0                  0   \n",
       "2       ...             0              0.0                  0   \n",
       "3       ...             1              1.0                  0   \n",
       "4       ...             0              0.0                  0   \n",
       "5       ...             0              0.0                  0   \n",
       "\n",
       "        BP _Systolic (mmHg)  BP _Diastolic (mmHg)  Follicle No. (L)  \\\n",
       "Sl. No                                                                \n",
       "1                       110                    80                 3   \n",
       "2                       120                    70                 3   \n",
       "3                       120                    80                13   \n",
       "4                       120                    70                 2   \n",
       "5                       120                    80                 3   \n",
       "\n",
       "        Follicle No. (R)  Avg. F size (L) (mm)  Avg. F size (R) (mm)  \\\n",
       "Sl. No                                                                 \n",
       "1                      3                  18.0                  18.0   \n",
       "2                      5                  15.0                  14.0   \n",
       "3                     15                  18.0                  20.0   \n",
       "4                      2                  15.0                  14.0   \n",
       "5                      4                  16.0                  14.0   \n",
       "\n",
       "        Endometrium (mm)  \n",
       "Sl. No                    \n",
       "1                    8.5  \n",
       "2                    3.7  \n",
       "3                   10.0  \n",
       "4                    7.5  \n",
       "5                    7.0  \n",
       "\n",
       "[5 rows x 41 columns]"
      ]
     },
     "execution_count": 286,
     "metadata": {},
     "output_type": "execute_result"
    }
   ],
   "source": [
    "# import dataset\n",
    "# the lambda function prevents an extra unnamed column from being added that seems to be contained in the dataset\n",
    "df = pd.read_csv(\"data without infertility _final.csv\", index_col=0, usecols=lambda col: not col.startswith(\"Unnamed:\"))\n",
    "df.head()"
   ]
  },
  {
   "cell_type": "markdown",
   "id": "1d870fba",
   "metadata": {},
   "source": [
    "Before we go further, we will rename the Marraige Status (Yrs) column to Marriage Status (Years) and \" Age (yrs)\" to \"Age (years)\"."
   ]
  },
  {
   "cell_type": "code",
   "execution_count": 287,
   "id": "fcaf7a6c",
   "metadata": {},
   "outputs": [],
   "source": [
    "# rename Marraige Status (Yrs) to Marriage Status (Years)\n",
    "df = df.rename(columns={\"Marraige Status (Yrs)\": \"Marriage Status (Years)\", \" Age (yrs)\": \"Age (years)\"})"
   ]
  },
  {
   "cell_type": "markdown",
   "id": "cc2714f3",
   "metadata": {},
   "source": [
    "Let's now take a look at if there are any null values in the dataset."
   ]
  },
  {
   "cell_type": "code",
   "execution_count": 288,
   "id": "e42f4008",
   "metadata": {},
   "outputs": [
    {
     "data": {
      "text/plain": [
       "Patient File No.           0\n",
       "PCOS (Y/N)                 0\n",
       "Age (years)                0\n",
       "Weight (Kg)                0\n",
       "Height(Cm)                 0\n",
       "BMI                        0\n",
       "Blood Group                0\n",
       "Pulse rate(bpm)            0\n",
       "RR (breaths/min)           0\n",
       "Hb(g/dl)                   0\n",
       "Cycle(R/I)                 0\n",
       "Cycle length(days)         0\n",
       "Marriage Status (Years)    1\n",
       "Pregnant(Y/N)              0\n",
       "No. of aborptions          0\n",
       "FSH(mIU/mL)                0\n",
       "LH(mIU/mL)                 0\n",
       "FSH/LH                     0\n",
       "Hip(inch)                  0\n",
       "Waist(inch)                0\n",
       "Waist:Hip Ratio            0\n",
       "TSH (mIU/L)                0\n",
       "AMH(ng/mL)                 0\n",
       "PRL(ng/mL)                 0\n",
       "Vit D3 (ng/mL)             0\n",
       "PRG(ng/mL)                 0\n",
       "RBS(mg/dl)                 0\n",
       "Weight gain(Y/N)           0\n",
       "hair growth(Y/N)           0\n",
       "Skin darkening (Y/N)       0\n",
       "Hair loss(Y/N)             0\n",
       "Pimples(Y/N)               0\n",
       "Fast food (Y/N)            1\n",
       "Reg.Exercise(Y/N)          0\n",
       "BP _Systolic (mmHg)        0\n",
       "BP _Diastolic (mmHg)       0\n",
       "Follicle No. (L)           0\n",
       "Follicle No. (R)           0\n",
       "Avg. F size (L) (mm)       0\n",
       "Avg. F size (R) (mm)       0\n",
       "Endometrium (mm)           0\n",
       "dtype: int64"
      ]
     },
     "execution_count": 288,
     "metadata": {},
     "output_type": "execute_result"
    }
   ],
   "source": [
    "# check for nulls\n",
    "df.isnull().sum()"
   ]
  },
  {
   "cell_type": "markdown",
   "id": "edb4a394",
   "metadata": {},
   "source": [
    "As we can see, there is a single null value in Marriage Status (Years) and one in Fast food (Y/N). For the former 2, we will simply use the median and mode, respectively, as Marriage Status is an integer value and Fast food is a boolean (at least, it should be a boolean). "
   ]
  },
  {
   "cell_type": "code",
   "execution_count": 289,
   "id": "53cbeee3",
   "metadata": {},
   "outputs": [
    {
     "name": "stdout",
     "output_type": "stream",
     "text": [
      "Marriage status mean: 7.0\n"
     ]
    }
   ],
   "source": [
    "# get median of marriage status and round to 1 decimal place\n",
    "marriage_status_median = df[\"Marriage Status (Years)\"].median()\n",
    "print(\"Marriage status mean:\", marriage_status_median)\n",
    "# fill in any null values for marriage status (in this case, just 1) with the mean \n",
    "\n",
    "df.loc[df[\"Marriage Status (Years)\"].isna(), \"Marriage Status (Years)\"] = marriage_status_median"
   ]
  },
  {
   "cell_type": "code",
   "execution_count": 290,
   "id": "51610eae",
   "metadata": {},
   "outputs": [
    {
     "data": {
      "text/plain": [
       "Fast food (Y/N)\n",
       "1.0    278\n",
       "0.0    262\n",
       "Name: count, dtype: int64"
      ]
     },
     "execution_count": 290,
     "metadata": {},
     "output_type": "execute_result"
    }
   ],
   "source": [
    "# check value counts for fast food (specifically to find mode)\n",
    "df[\"Fast food (Y/N)\"].value_counts()"
   ]
  },
  {
   "cell_type": "code",
   "execution_count": 291,
   "id": "9fb403eb",
   "metadata": {},
   "outputs": [],
   "source": [
    "# we will use the mode (1) to fill in the null value\n",
    "df.loc[df[\"Fast food (Y/N)\"].isna(), \"Fast food (Y/N)\"] = 1"
   ]
  },
  {
   "cell_type": "code",
   "execution_count": 292,
   "id": "5c0de104",
   "metadata": {},
   "outputs": [
    {
     "data": {
      "text/plain": [
       "Patient File No.           0\n",
       "PCOS (Y/N)                 0\n",
       "Age (years)                0\n",
       "Weight (Kg)                0\n",
       "Height(Cm)                 0\n",
       "BMI                        0\n",
       "Blood Group                0\n",
       "Pulse rate(bpm)            0\n",
       "RR (breaths/min)           0\n",
       "Hb(g/dl)                   0\n",
       "Cycle(R/I)                 0\n",
       "Cycle length(days)         0\n",
       "Marriage Status (Years)    0\n",
       "Pregnant(Y/N)              0\n",
       "No. of aborptions          0\n",
       "FSH(mIU/mL)                0\n",
       "LH(mIU/mL)                 0\n",
       "FSH/LH                     0\n",
       "Hip(inch)                  0\n",
       "Waist(inch)                0\n",
       "Waist:Hip Ratio            0\n",
       "TSH (mIU/L)                0\n",
       "AMH(ng/mL)                 0\n",
       "PRL(ng/mL)                 0\n",
       "Vit D3 (ng/mL)             0\n",
       "PRG(ng/mL)                 0\n",
       "RBS(mg/dl)                 0\n",
       "Weight gain(Y/N)           0\n",
       "hair growth(Y/N)           0\n",
       "Skin darkening (Y/N)       0\n",
       "Hair loss(Y/N)             0\n",
       "Pimples(Y/N)               0\n",
       "Fast food (Y/N)            0\n",
       "Reg.Exercise(Y/N)          0\n",
       "BP _Systolic (mmHg)        0\n",
       "BP _Diastolic (mmHg)       0\n",
       "Follicle No. (L)           0\n",
       "Follicle No. (R)           0\n",
       "Avg. F size (L) (mm)       0\n",
       "Avg. F size (R) (mm)       0\n",
       "Endometrium (mm)           0\n",
       "dtype: int64"
      ]
     },
     "execution_count": 292,
     "metadata": {},
     "output_type": "execute_result"
    }
   ],
   "source": [
    "# check again for nulls\n",
    "df.isnull().sum()"
   ]
  },
  {
   "cell_type": "markdown",
   "id": "2c970429",
   "metadata": {},
   "source": [
    "Now that there are no more null values in the dataset, we will move on to converting columns to suitable types. \n",
    "\n",
    "First, let's get a summary of all the types in the dataset."
   ]
  },
  {
   "cell_type": "code",
   "execution_count": 293,
   "id": "e204834a",
   "metadata": {},
   "outputs": [
    {
     "name": "stdout",
     "output_type": "stream",
     "text": [
      "<class 'pandas.core.frame.DataFrame'>\n",
      "Index: 541 entries, 1 to 541\n",
      "Data columns (total 41 columns):\n",
      " #   Column                   Non-Null Count  Dtype  \n",
      "---  ------                   --------------  -----  \n",
      " 0   Patient File No.         541 non-null    int64  \n",
      " 1   PCOS (Y/N)               541 non-null    int64  \n",
      " 2   Age (years)              541 non-null    int64  \n",
      " 3   Weight (Kg)              541 non-null    float64\n",
      " 4   Height(Cm)               541 non-null    float64\n",
      " 5   BMI                      541 non-null    float64\n",
      " 6   Blood Group              541 non-null    int64  \n",
      " 7   Pulse rate(bpm)          541 non-null    int64  \n",
      " 8   RR (breaths/min)         541 non-null    int64  \n",
      " 9   Hb(g/dl)                 541 non-null    float64\n",
      " 10  Cycle(R/I)               541 non-null    int64  \n",
      " 11  Cycle length(days)       541 non-null    int64  \n",
      " 12  Marriage Status (Years)  541 non-null    float64\n",
      " 13  Pregnant(Y/N)            541 non-null    int64  \n",
      " 14  No. of aborptions        541 non-null    int64  \n",
      " 15  FSH(mIU/mL)              541 non-null    float64\n",
      " 16  LH(mIU/mL)               541 non-null    float64\n",
      " 17  FSH/LH                   541 non-null    float64\n",
      " 18  Hip(inch)                541 non-null    int64  \n",
      " 19  Waist(inch)              541 non-null    int64  \n",
      " 20  Waist:Hip Ratio          541 non-null    float64\n",
      " 21  TSH (mIU/L)              541 non-null    float64\n",
      " 22  AMH(ng/mL)               541 non-null    object \n",
      " 23  PRL(ng/mL)               541 non-null    float64\n",
      " 24  Vit D3 (ng/mL)           541 non-null    float64\n",
      " 25  PRG(ng/mL)               541 non-null    float64\n",
      " 26  RBS(mg/dl)               541 non-null    float64\n",
      " 27  Weight gain(Y/N)         541 non-null    int64  \n",
      " 28  hair growth(Y/N)         541 non-null    int64  \n",
      " 29  Skin darkening (Y/N)     541 non-null    int64  \n",
      " 30  Hair loss(Y/N)           541 non-null    int64  \n",
      " 31  Pimples(Y/N)             541 non-null    int64  \n",
      " 32  Fast food (Y/N)          541 non-null    float64\n",
      " 33  Reg.Exercise(Y/N)        541 non-null    int64  \n",
      " 34  BP _Systolic (mmHg)      541 non-null    int64  \n",
      " 35  BP _Diastolic (mmHg)     541 non-null    int64  \n",
      " 36  Follicle No. (L)         541 non-null    int64  \n",
      " 37  Follicle No. (R)         541 non-null    int64  \n",
      " 38  Avg. F size (L) (mm)     541 non-null    float64\n",
      " 39  Avg. F size (R) (mm)     541 non-null    float64\n",
      " 40  Endometrium (mm)         541 non-null    float64\n",
      "dtypes: float64(18), int64(22), object(1)\n",
      "memory usage: 177.5+ KB\n"
     ]
    }
   ],
   "source": [
    "# show all datatypes\n",
    "df.info()"
   ]
  },
  {
   "cell_type": "markdown",
   "id": "1fcf918e",
   "metadata": {},
   "source": [
    "There are a few changes we could make. There are several columns with boolean values (namely the ones with Y/N in the column name) but have the int64 type. We can change the types of these columns to boolean."
   ]
  },
  {
   "cell_type": "code",
   "execution_count": 294,
   "id": "f958cbca",
   "metadata": {},
   "outputs": [
    {
     "name": "stdout",
     "output_type": "stream",
     "text": [
      "Patient File No.             int64\n",
      "PCOS (Y/N)                    bool\n",
      "Age (years)                  int64\n",
      "Weight (Kg)                float64\n",
      "Height(Cm)                 float64\n",
      "BMI                        float64\n",
      "Blood Group                  int64\n",
      "Pulse rate(bpm)              int64\n",
      "RR (breaths/min)             int64\n",
      "Hb(g/dl)                   float64\n",
      "Cycle(R/I)                   int64\n",
      "Cycle length(days)           int64\n",
      "Marriage Status (Years)    float64\n",
      "Pregnant(Y/N)                 bool\n",
      "No. of aborptions            int64\n",
      "FSH(mIU/mL)                float64\n",
      "LH(mIU/mL)                 float64\n",
      "FSH/LH                     float64\n",
      "Hip(inch)                    int64\n",
      "Waist(inch)                  int64\n",
      "Waist:Hip Ratio            float64\n",
      "TSH (mIU/L)                float64\n",
      "AMH(ng/mL)                  object\n",
      "PRL(ng/mL)                 float64\n",
      "Vit D3 (ng/mL)             float64\n",
      "PRG(ng/mL)                 float64\n",
      "RBS(mg/dl)                 float64\n",
      "Weight gain(Y/N)              bool\n",
      "hair growth(Y/N)              bool\n",
      "Skin darkening (Y/N)          bool\n",
      "Hair loss(Y/N)                bool\n",
      "Pimples(Y/N)                  bool\n",
      "Fast food (Y/N)               bool\n",
      "Reg.Exercise(Y/N)             bool\n",
      "BP _Systolic (mmHg)          int64\n",
      "BP _Diastolic (mmHg)         int64\n",
      "Follicle No. (L)             int64\n",
      "Follicle No. (R)             int64\n",
      "Avg. F size (L) (mm)       float64\n",
      "Avg. F size (R) (mm)       float64\n",
      "Endometrium (mm)           float64\n",
      "dtype: object\n"
     ]
    }
   ],
   "source": [
    "# Converting any columns with Y/N in the column name to boolean (except for Fast food, we address that in the next cells).\n",
    "#Iterating over columns\n",
    "for column in df.columns:\n",
    "    #Checking if column name contains 'Y/N'\n",
    "    if 'Y/N' in column:\n",
    "        #Converting column values to boolean\n",
    "        df[column] = df[column].astype(bool)\n",
    "\n",
    "#Displaying data types after conversion\n",
    "print(df.dtypes)"
   ]
  },
  {
   "cell_type": "code",
   "execution_count": 295,
   "id": "c8450573",
   "metadata": {},
   "outputs": [
    {
     "data": {
      "text/plain": [
       "Fast food (Y/N)\n",
       "True     279\n",
       "False    262\n",
       "Name: count, dtype: int64"
      ]
     },
     "execution_count": 295,
     "metadata": {},
     "output_type": "execute_result"
    }
   ],
   "source": [
    "df[\"Fast food (Y/N)\"].value_counts()"
   ]
  },
  {
   "cell_type": "markdown",
   "id": "11ff1ede",
   "metadata": {},
   "source": [
    "Because 0 and 1 are the only values, we do not need the type to be float64. We can change this to boolean (as we did the other columns with Y/N in the name)."
   ]
  },
  {
   "cell_type": "code",
   "execution_count": 296,
   "id": "c39b95b1",
   "metadata": {},
   "outputs": [
    {
     "name": "stdout",
     "output_type": "stream",
     "text": [
      "Fast food (Y/N)\n",
      "True     279\n",
      "False    262\n",
      "Name: count, dtype: int64\n"
     ]
    }
   ],
   "source": [
    "# Converting Fast food column to boolean\n",
    "# Mapping numerical values to boolean\n",
    "df[\"Fast food (Y/N)\"] = df[\"Fast food (Y/N)\"].astype(bool)\n",
    "\n",
    "#Checking the conversion\n",
    "print(df[\"Fast food (Y/N)\"].value_counts())"
   ]
  },
  {
   "cell_type": "markdown",
   "id": "a7ea60c5",
   "metadata": {},
   "source": [
    "Next, we will check for and delete any duplicate rows in the data."
   ]
  },
  {
   "cell_type": "code",
   "execution_count": 297,
   "id": "75009fb3",
   "metadata": {},
   "outputs": [
    {
     "data": {
      "text/plain": [
       "(541, 41)"
      ]
     },
     "execution_count": 297,
     "metadata": {},
     "output_type": "execute_result"
    }
   ],
   "source": [
    "# print out shape of data\n",
    "df.shape"
   ]
  },
  {
   "cell_type": "code",
   "execution_count": 298,
   "id": "1e819d2f",
   "metadata": {},
   "outputs": [
    {
     "data": {
      "text/plain": [
       "(541, 41)"
      ]
     },
     "execution_count": 298,
     "metadata": {},
     "output_type": "execute_result"
    }
   ],
   "source": [
    "# drop any duplicates\n",
    "df.drop_duplicates(inplace=True)\n",
    "# print out shape again\n",
    "df.shape"
   ]
  },
  {
   "cell_type": "markdown",
   "id": "8ebd1077",
   "metadata": {},
   "source": [
    "As we can see, there are no duplicate entries in the dataset, as the shape stayed the same post-deletion.\n",
    "\n",
    "We are now done with preparing the data, so we will begin doing some visualizations to help us get a better understanding of the dataset and help inform our analysis later on. We will start by looking at some of the explanatory variables and their potential relation to whether or not a patient was diagnosed with PCOS to find potential correlations."
   ]
  },
  {
   "cell_type": "code",
   "execution_count": 299,
   "id": "2e0cc0a8",
   "metadata": {},
   "outputs": [
    {
     "data": {
      "image/png": "[encoded data removed]",
      "text/plain": [
       "<Figure size 800x600 with 1 Axes>"
      ]
     },
     "metadata": {},
     "output_type": "display_data"
    }
   ],
   "source": [
    "# Visualization 1 \n",
    "# Histogram of Age\n",
    "\n",
    "plt.figure(figsize=(8,6))\n",
    "sns.histplot(data=df, x='Age (years)', hue='PCOS (Y/N)', bins=20, kde=True, multiple='stack')\n",
    "plt.title('Distribution of Age by PCOS Diagnosis')\n",
    "plt.xlabel('Age (years)')\n",
    "plt.ylabel('Frequency')\n",
    "plt.legend(title='PCOS Diagnosis', labels=['No PCOS', 'PCOS'])\n",
    "plt.show()"
   ]
  },
  {
   "cell_type": "markdown",
   "id": "204c7c0a",
   "metadata": {},
   "source": [
    "In this stacked histogram, we can see the distribution of ages amongst patients who are diagnosed with PCOS and patients who are not. In both, we can see that the peak age in the data set is around 27 years. An important feature we can notice is that the data is somewhat normally distributed between these two variables."
   ]
  },
  {
   "cell_type": "code",
   "execution_count": 300,
   "id": "8ef9c88b",
   "metadata": {},
   "outputs": [
    {
     "data": {
      "image/png": "[encoded data removed]",
      "text/plain": [
       "<Figure size 800x600 with 1 Axes>"
      ]
     },
     "metadata": {},
     "output_type": "display_data"
    }
   ],
   "source": [
    "# Visualization 2 \n",
    "# Box plot of BMI by PCOS diagnosis\n",
    "plt.figure(figsize=(8,6))\n",
    "sns.boxplot(x='PCOS (Y/N)', y='BMI', data=df)\n",
    "plt.title('BMI Distribution by PCOS Diagnosis')\n",
    "plt.xlabel('PCOS Diagnosis')\n",
    "plt.ylabel('BMI')\n",
    "plt.show()"
   ]
  },
  {
   "cell_type": "markdown",
   "id": "f812a81a",
   "metadata": {},
   "source": [
    "In this box plot, we can notice that the interquartile interval (the box itself) for patients who are not diagnosed with PCOS is lower overall than those with PCOS, meaning there appears to be some correlation between a higher BMI and a positive PCOS diagnosis."
   ]
  },
  {
   "cell_type": "code",
   "execution_count": 301,
   "id": "a457b2d9",
   "metadata": {},
   "outputs": [
    {
     "data": {
      "image/png": "[encoded data removed]",
      "text/plain": [
       "<Figure size 800x600 with 1 Axes>"
      ]
     },
     "metadata": {},
     "output_type": "display_data"
    }
   ],
   "source": [
    "# Visualization 3 \n",
    "# Scatter plot of BMI vs. LH levels\n",
    "plt.figure(figsize=(8,6))\n",
    "sns.boxplot(x='PCOS (Y/N)', y='LH(mIU/mL)', data=df)\n",
    "plt.title('PCOS Diagnosis Status by LH Levels')\n",
    "plt.xlabel('PCOS Diagnosis Status')\n",
    "plt.ylabel('LH Levels (mIU/ml)')\n",
    "plt.show()\n"
   ]
  },
  {
   "cell_type": "markdown",
   "id": "fab2a11b",
   "metadata": {},
   "source": [
    "Clearly, there is a massive outlier in the data that makes the graph very difficult to analyze. Let's check to see what might be going on by using describe() on the column."
   ]
  },
  {
   "cell_type": "code",
   "execution_count": 302,
   "id": "9ae44f3f",
   "metadata": {},
   "outputs": [
    {
     "data": {
      "text/plain": [
       "count     541.000000\n",
       "mean        6.469919\n",
       "std        86.673255\n",
       "min         0.020000\n",
       "25%         1.020000\n",
       "50%         2.300000\n",
       "75%         3.680000\n",
       "max      2018.000000\n",
       "Name: LH(mIU/mL), dtype: float64"
      ]
     },
     "execution_count": 302,
     "metadata": {},
     "output_type": "execute_result"
    }
   ],
   "source": [
    "# check important statistical measures for LH\n",
    "df['LH(mIU/mL)'].describe()"
   ]
  },
  {
   "cell_type": "markdown",
   "id": "c9e97572",
   "metadata": {},
   "source": [
    "The max value is 2018, significantly higher than the minimum and any of the quartile measures. Thus, it is likely that this is an outlier. Here, we will replace it using the mean value of LH, since there don't appear to be other outliers."
   ]
  },
  {
   "cell_type": "code",
   "execution_count": 303,
   "id": "6901e154",
   "metadata": {},
   "outputs": [
    {
     "data": {
      "text/plain": [
       "count    541.000000\n",
       "mean       2.751748\n",
       "std        2.311096\n",
       "min        0.020000\n",
       "25%        1.020000\n",
       "50%        2.300000\n",
       "75%        3.680000\n",
       "max       14.690000\n",
       "Name: LH(mIU/mL), dtype: float64"
      ]
     },
     "execution_count": 303,
     "metadata": {},
     "output_type": "execute_result"
    }
   ],
   "source": [
    "# replace the outlier value with the mean for LH, then describe again to see max value and verify that update occurred\n",
    "df.loc[df['LH(mIU/mL)'] > 2000, 'LH(mIU/mL)'] = df['LH(mIU/mL)'].mean()\n",
    "df['LH(mIU/mL)'].describe()"
   ]
  },
  {
   "cell_type": "markdown",
   "id": "7f1eafe7",
   "metadata": {},
   "source": [
    "Let's now plot the graph in the same way we did earlier."
   ]
  },
  {
   "cell_type": "code",
   "execution_count": 304,
   "id": "0fce5911",
   "metadata": {},
   "outputs": [
    {
     "data": {
      "image/png": "[encoded data removed]",
      "text/plain": [
       "<Figure size 800x600 with 1 Axes>"
      ]
     },
     "metadata": {},
     "output_type": "display_data"
    }
   ],
   "source": [
    "plt.figure(figsize=(8,6))\n",
    "sns.boxplot(x='PCOS (Y/N)', y='LH(mIU/mL)', data=df)\n",
    "plt.title('LH Levels by PCOS diagnosis status')\n",
    "plt.xlabel('PCOS Diagnosis Status')\n",
    "plt.ylabel('LH Levels (mIU/ml)')\n",
    "plt.show()"
   ]
  },
  {
   "cell_type": "markdown",
   "id": "4ae2cba3",
   "metadata": {},
   "source": [
    "In this chart, we can see that the minimum, maximum, and 3rd quartile LH levels among those diagnosed with PCOS are higher than those who do not have PCOS. However, it is also interesting to note that there is a greater interquartile range among those who do have PCOS compared to those who do not, and the first quartile and median LH levels amongst both groups are approximately equal. "
   ]
  },
  {
   "cell_type": "markdown",
   "id": "5124ae67",
   "metadata": {},
   "source": [
    "# Hypothesis Testing"
   ]
  },
  {
   "cell_type": "code",
   "execution_count": 305,
   "id": "e5052743",
   "metadata": {},
   "outputs": [
    {
     "name": "stdout",
     "output_type": "stream",
     "text": [
      "T-test result - t-statistic: -3.97, p-value: 0.0\n"
     ]
    }
   ],
   "source": [
    "# Visualization 1's Hypothesis(1): Is there a difference in mean age between individuals diagnosed with PCOS and those not diagnosed?\n",
    "pcos_yes_age = df[df['PCOS (Y/N)'] == 1]['Age (years)']\n",
    "pcos_no_age = df[df['PCOS (Y/N)'] == 0]['Age (years)']\n",
    "t_stat, p_value = ttest_ind(pcos_yes_age, pcos_no_age)\n",
    "print(f\"T-test result - t-statistic: {t_stat.round(2)}, p-value: {p_value.round(2)}\")"
   ]
  },
  {
   "cell_type": "markdown",
   "id": "4117ec23",
   "metadata": {},
   "source": [
    "The t-test analysis reveals a significant difference in the mean age between indiciduals diagnosed with PCOS and those without diagnosis. Specifically, the negative t-statistic suggests that the average age of individuals with PCOS tends to be lower than those without the condition. Furthermore, the notably small p-value (approximately 0 when rounding) provides strong evidence against the null hypothesis, indicating that this observed age differences is unlikely to occur by random chance."
   ]
  },
  {
   "cell_type": "code",
   "execution_count": 306,
   "id": "467518b2",
   "metadata": {},
   "outputs": [
    {
     "name": "stdout",
     "output_type": "stream",
     "text": [
      "Chi-square test result - Chi2 statistic: 74.96, p-value: 0.0\n"
     ]
    }
   ],
   "source": [
    "# Visualization 2's Hypothesis(2): Is there an association between PCOS diagnosis and fast food consumption?\n",
    "contingency_table = pd.crosstab(df['PCOS (Y/N)'], df['Fast food (Y/N)'])\n",
    "chi2_stat, p_value, _, _ = chi2_contingency(contingency_table)\n",
    "print(f\"Chi-square test result - Chi2 statistic: {chi2_stat.round(2)}, p-value: {p_value.round(2)}\")"
   ]
  },
  {
   "cell_type": "markdown",
   "id": "66c5ecef",
   "metadata": {},
   "source": [
    "The chi-square test yielded a significant result (x2 statistic = 74.96, p < 0.05), indicating an association between PCOS diagnosis and fast food consumption. This suggests that individuals diagnosed with PCOS may demonstrate distinct patterns of fast food consumption compared to those without PCOS. "
   ]
  },
  {
   "cell_type": "code",
   "execution_count": 307,
   "id": "fdf88fd1",
   "metadata": {},
   "outputs": [
    {
     "name": "stdout",
     "output_type": "stream",
     "text": [
      "Spearman correlation result - Correlation coefficient: 0.04, p-value: 0.36\n"
     ]
    }
   ],
   "source": [
    "# Visualization 3's Hypothesis(3): Is there a correlation between PCOS and LH levels?\n",
    "rho, p_value = spearmanr(df['PCOS (Y/N)'], df['LH(mIU/mL)'])\n",
    "print(f\"Spearman correlation result - Correlation coefficient: {rho.round(2)}, p-value: {p_value.round(2)}\")"
   ]
  },
  {
   "cell_type": "markdown",
   "id": "c92277dd",
   "metadata": {},
   "source": [
    "The analysis indicates a negligible correlation (we can note that Spearman's rho is approximately 0.04) between PCOS diagnosis status and LH levels. With a p-value of 0.36, the correlation is not statistically significant at the customary significance level of 0.05. Hence, there seems to  be insufficient evidence to assert a substantive relationship between PCOS diagnosis status and LH levels in this dataset."
   ]
  }
 ],
 "metadata": {
  "kernelspec": {
   "display_name": "Python 3 (ipykernel)",
   "language": "python",
   "name": "python3"
  },
  "language_info": {
   "codemirror_mode": {
    "name": "ipython",
    "version": 3
   },
   "file_extension": ".py",
   "mimetype": "text/x-python",
   "name": "python",
   "nbconvert_exporter": "python",
   "pygments_lexer": "ipython3",
   "version": "3.11.5"
  }
 },
 "nbformat": 4,
 "nbformat_minor": 5
}
